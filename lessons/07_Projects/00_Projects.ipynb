{
 "cells": [
  {
   "cell_type": "markdown",
   "metadata": {},
   "source": [
    "# Write Your Own Games\n",
    "\n"
   ]
  },
  {
   "cell_type": "markdown",
   "metadata": {},
   "source": [
    "# Build Your Own Game\n",
    "\n",
    "You've now learned enough about PyGame to create your own game! Here are starters for \n",
    "seven different games you can build. Each game has a brief description of the gameplay\n",
    "and mechanics to help you get started.\n",
    "\n",
    "Take these instructions as a starting point, but it's totally your game! Do what\n",
    "ever you want to make it fun and interesting.\n"
   ]
  },
  {
   "cell_type": "markdown",
   "metadata": {},
   "source": [
    "\n",
    "## 1. Flappy Bird\n",
    "\n",
    "Guide a bird through an endless series of pipes by tapping to make it flap. The\n",
    "goal is to avoid hitting the pipes while navigating through the gaps. The game\n",
    "combines gravity with simple, yet challenging gameplay.\n",
    "\n",
    "[Build Flappy Bird](01_Flappy_Bird/README.md) \n"
   ]
  },
  {
   "cell_type": "markdown",
   "metadata": {},
   "source": [
    "\n",
    "## 2. League Invaders\n",
    "\n",
    "Inspired by the classic **Space Invaders**, the player controls a laser cannon\n",
    "to defend Earth from waves of alien invaders. Move left and right to shoot the\n",
    "aliens while avoiding their projectiles, and destroy all invaders before they\n",
    "reach the bottom.\n",
    "\n",
    "[Build League Invaders](02_Invaders/README.md)  \n"
   ]
  },
  {
   "cell_type": "markdown",
   "metadata": {},
   "source": [
    " \n",
    "## 3. Frogger\n",
    "\n",
    "Help your frog cross a busy road and a dangerous river to reach safe zones at\n",
    "the top of the screen. Dodge traffic, jump on floating logs and turtles, and\n",
    "avoid falling into the water to guide the frog to safety.\n",
    "\n",
    "[Build Frogger](03_Frogger/README.md) \n"
   ]
  },
  {
   "cell_type": "markdown",
   "metadata": {},
   "source": [
    "\n",
    "## 4. Asteroids\n",
    "\n",
    "Pilot a spaceship through a field of asteroids and enemy UFOs, shooting them to\n",
    "survive. Large asteroids break into smaller ones, and the action ramps up as you\n",
    "avoid collisions and take out enemies in this endless, fast-paced game.\n",
    "\n",
    "[Build Asteroids](04_Asteroids/README.md)  \n"
   ]
  },
  {
   "cell_type": "markdown",
   "metadata": {},
   "source": [
    "\n",
    "## 5. Lunar Lander\n",
    "\n",
    "Safely land a lunar module on the moon by controlling its descent with limited\n",
    "fuel. Use careful thrusting to manage speed and aim for landing zones of varying\n",
    "difficulty, all while battling gravity and avoiding a crash.\n",
    "\n",
    "[Build Lunar Lander](05_Lunar_Lander/README.md)  \n"
   ]
  },
  {
   "cell_type": "markdown",
   "metadata": {},
   "source": [
    "\n",
    "## 6. Tank War\n",
    "\n",
    "Engage in a 2-player tank battle in an arena filled with obstacles. Move your\n",
    "tank, fire projectiles, and use strategic shots to outmaneuver and destroy your\n",
    "opponent before they destroy you.\n",
    "\n",
    "[Build Tank War](06_Tank_War/README.md) \n",
    "\n"
   ]
  },
  {
   "cell_type": "markdown",
   "metadata": {},
   "source": [
    "\n",
    "\n",
    "## 7. Dino Run\n",
    "\n",
    "Control a dinosaur running through a desert, jumping over obstacles like cacti\n",
    "and ducking under flying pterodactyls. The game speeds up as you go, and the\n",
    "goal is to survive as long as possible to achieve a high score.\n",
    "\n",
    "[Build Dino Run](07_Dino_Run/README.md)\n"
   ]
  }
 ],
 "metadata": {
  "language_info": {
   "name": "python"
  }
 },
 "nbformat": 4,
 "nbformat_minor": 2
}
